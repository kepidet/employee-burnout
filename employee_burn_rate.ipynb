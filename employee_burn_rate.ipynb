{
 "metadata": {
  "language_info": {
   "codemirror_mode": {
    "name": "ipython",
    "version": 3
   },
   "file_extension": ".py",
   "mimetype": "text/x-python",
   "name": "python",
   "nbconvert_exporter": "python",
   "pygments_lexer": "ipython3",
   "version": "3.8.1-final"
  },
  "orig_nbformat": 2,
  "kernelspec": {
   "name": "python3",
   "display_name": "Python 3",
   "language": "python"
  }
 },
 "nbformat": 4,
 "nbformat_minor": 2,
 "cells": [
  {
   "cell_type": "code",
   "execution_count": null,
   "metadata": {},
   "outputs": [],
   "source": [
    "import numpy as np \n",
    "import pandas as pd \n",
    "import seaborn as sns\n",
    "import matplotlib.pyplot as plt\n",
    "import datetime\n",
    "from sklearn.linear_model import LinearRegression\n",
    "from sklearn.preprocessing import PolynomialFeatures\n",
    "from sklearn.ensemble import RandomForestRegressor\n",
    "from sklearn.model_selection import train_test_split\n",
    "from sklearn.metrics import r2_score\n",
    "from sklearn import metrics\n",
    "\n",
    "\n",
    "# import dataset\n",
    "df_test = pd.read_csv(r\"C:\\Users\\BernadettKepenyes\\Documents\\GitHub\\employee-burnout\\test.csv\")\n",
    "df_train = pd.read_csv(r\"C:\\Users\\BernadettKepenyes\\Documents\\GitHub\\employee-burnout\\train.csv\")\n",
    "\n",
    "df_test.head()"
   ]
  },
  {
   "cell_type": "code",
   "execution_count": null,
   "metadata": {},
   "outputs": [],
   "source": [
    "# learning about dataset\n",
    "print('Test shape: ', df_test.shape, '\\nTrain shape: ', df_train.shape)\n",
    "print('\\nDataset description: \\n', df_train.describe())\n",
    "print('\\nUnique values: \\n', df_train.nunique())"
   ]
  },
  {
   "cell_type": "code",
   "execution_count": null,
   "metadata": {},
   "outputs": [],
   "source": [
    "df_train.info()"
   ]
  },
  {
   "cell_type": "code",
   "execution_count": null,
   "metadata": {},
   "outputs": [],
   "source": [
    "# missing values\n",
    "# empty cells of train data\n",
    "df_train.isnull().sum()/df_train.shape[0]"
   ]
  },
  {
   "cell_type": "code",
   "execution_count": null,
   "metadata": {},
   "outputs": [],
   "source": [
    "# empty cells of test data\n",
    "df_test.isnull().sum()/df_test.shape[0]"
   ]
  },
  {
   "cell_type": "code",
   "execution_count": null,
   "metadata": {},
   "outputs": [],
   "source": [
    "# drop the rows with missing burn rate\n",
    "df_train.dropna(subset=[\"Burn Rate\"], inplace = True)\n",
    "df_train.shape"
   ]
  },
  {
   "cell_type": "code",
   "execution_count": null,
   "metadata": {},
   "outputs": [],
   "source": [
    "df_train.info()"
   ]
  },
  {
   "cell_type": "code",
   "execution_count": null,
   "metadata": {},
   "outputs": [],
   "source": [
    "# encoding \"Date of Joining\"\n",
    "current_date = pd.to_datetime('today')\n",
    "\n",
    "df_train['Date of Joining'] = pd.to_datetime(df_train['Date of Joining'])\n",
    "df_test['Date of Joining'] = pd.to_datetime(df_test['Date of Joining'])\n",
    "\n",
    "def create_days_count(data):\n",
    "    return(current_date - data['Date of Joining'])\n",
    "\n",
    "df_train['days_count'] = df_train.apply(create_days_count, axis=1)\n",
    "df_train['days_count'] = df_train['days_count'].dt.days\n",
    "\n",
    "df_test['days_count'] = df_test.apply(create_days_count, axis=1)\n",
    "df_test['days_count'] = df_test['days_count'].dt.days\n",
    "\n",
    "df_train.head()\n",
    "df_test.head()"
   ]
  },
  {
   "cell_type": "code",
   "execution_count": null,
   "metadata": {},
   "outputs": [],
   "source": [
    "# identifing columns with categorical data\n",
    "df_train.select_dtypes(include=['object'])"
   ]
  },
  {
   "cell_type": "code",
   "execution_count": null,
   "metadata": {},
   "outputs": [],
   "source": [
    "# encoding caterogical variables\n",
    "df_train['Gender'] = df_train['Gender'].apply(lambda x: 0 if x=='Male' else 1)\n",
    "df_train['Company Type'] = df_train['Company Type'].apply(lambda x: 0 if x=='Service' else 1)\n",
    "df_train['WFH Setup Available'] = df_train['WFH Setup Available'].apply(lambda x: 0 if x=='No' else 1)\n",
    "\n",
    "df_test['Gender'] = df_test['Gender'].apply(lambda x: 0 if x=='Male' else 1)\n",
    "df_test['Company Type'] = df_test['Company Type'].apply(lambda x: 0 if x=='Service' else 1)\n",
    "df_test['WFH Setup Available'] = df_test['WFH Setup Available'].apply(lambda x: 0 if x=='No' else 1)\n",
    "\n",
    "df_train.head()\n",
    "df_test.head()"
   ]
  },
  {
   "cell_type": "code",
   "execution_count": null,
   "metadata": {},
   "outputs": [],
   "source": [
    "# drop \"Employee ID\" and \"Date of Joining\" columns\n",
    "df_train.drop(['Employee ID', 'Date of Joining'], axis=1, inplace=True)\n",
    "df_test.drop(['Employee ID', 'Date of Joining'], axis=1, inplace=True)\n",
    "\n",
    "df_train.head()"
   ]
  },
  {
   "cell_type": "code",
   "execution_count": null,
   "metadata": {},
   "outputs": [],
   "source": [
    "# missing values in \"Resource Allocation\" and \"Mental Fatigue Score\"\n",
    "# imputing values (median) to the dataset, \"Mental Fatigue Score\" results incorrect data at 6, therefore we will only drop the NaN rows\n",
    "df_train.dropna(subset=[\"Resource Allocation\", \"Mental Fatigue Score\"], axis=0, inplace = True)\n",
    "df_train.head()"
   ]
  },
  {
   "cell_type": "code",
   "execution_count": null,
   "metadata": {},
   "outputs": [],
   "source": [
    "# correlation table\n",
    "train_corr = df_train.corr()\n",
    "plt.figure(figsize=(8,5))\n",
    "sns.heatmap(data=train_corr, annot=True, fmt=\".2f\", vmin=-1, vmax=1, cmap=\"summer_r\")\n",
    "plt.yticks(rotation=0)\n",
    "plt.show()"
   ]
  },
  {
   "cell_type": "code",
   "execution_count": null,
   "metadata": {},
   "outputs": [],
   "source": [
    "# burn rate grouped by home office setup\n",
    "burn_rate_WFH_Setup = df_train.groupby(['WFH Setup Available'])['Burn Rate'].mean()\n",
    "print(burn_rate_WFH_Setup)"
   ]
  },
  {
   "cell_type": "code",
   "execution_count": null,
   "metadata": {},
   "outputs": [],
   "source": [
    "# burn rate grouped by resource allocation\n",
    "burn_rate_resource = df_train.groupby(['Resource Allocation'])['Burn Rate'].mean()\n",
    "print(burn_rate_resource)"
   ]
  },
  {
   "cell_type": "code",
   "execution_count": null,
   "metadata": {},
   "outputs": [],
   "source": [
    "# burn rate grouped by company type\n",
    "burn_rate_company = df_train.groupby(['Company Type'])['Burn Rate'].mean()\n",
    "print(burn_rate_company)"
   ]
  },
  {
   "cell_type": "code",
   "execution_count": null,
   "metadata": {},
   "outputs": [],
   "source": [
    "# burn rate grouped by gender\n",
    "burn_rate_gender = df_train.groupby(['Gender'])['Burn Rate'].mean()\n",
    "print(burn_rate_gender)"
   ]
  },
  {
   "cell_type": "code",
   "execution_count": null,
   "metadata": {},
   "outputs": [],
   "source": [
    "# employees grouped by resource allocation and home office setup\n",
    "resource_allocation_gender = df_train.groupby(['WFH Setup Available', 'Resource Allocation'])['Resource Allocation'].count()\n",
    "print(resource_allocation_gender)"
   ]
  },
  {
   "cell_type": "code",
   "execution_count": null,
   "metadata": {},
   "outputs": [],
   "source": [
    "# highest correlation with Mental Fatigue Score\n",
    "plt.figure(figsize=(9,5))\n",
    "plt.scatter(\"Mental Fatigue Score\", \"Burn Rate\", data=df_train, s=0.3, c=\"blue\")\n",
    "plt.plot([0,10], [0,1], linewidth=3, c=\"red\")\n",
    "plt.xlabel(\"Mental Fatigue Score\")\n",
    "plt.ylabel(\"Burn Rate\")\n",
    "plt.xticks(range(0,11))\n",
    "plt.show()"
   ]
  },
  {
   "cell_type": "code",
   "execution_count": null,
   "metadata": {},
   "outputs": [],
   "source": [
    "# correlation with \"Resource Allocation\"\n",
    "plt.figure(figsize=(9,5))\n",
    "plt.scatter(\"Resource Allocation\", \"Burn Rate\", data=df_train, s=0.3, c=\"brown\")\n",
    "plt.plot([0,10], [0,1], linewidth=3, c=\"red\")\n",
    "plt.xlabel(\"Resource Allocation\")\n",
    "plt.ylabel(\"Burn Rate\")\n",
    "plt.xticks(range(0,11))\n",
    "plt.show()"
   ]
  },
  {
   "cell_type": "code",
   "execution_count": null,
   "metadata": {},
   "outputs": [],
   "source": [
    "df_test.head()"
   ]
  },
  {
   "cell_type": "code",
   "execution_count": null,
   "metadata": {},
   "outputs": [],
   "source": [
    "# saving the cleaned data, we will need it later for scenario analysis\n",
    "clean_df_train = df_train.copy()\n",
    "clean_df_train.to_csv(\"clean_df_train.csv\", index=False)\n",
    "train_file_path = r\"C:\\Users\\BernadettKepenyes\\Documents\\GitHub\\employee-burnout\\clean_df_train.csv\"\n",
    "new_df_train = pd.read_csv(train_file_path)\n",
    "\n",
    "new_df_train.head()"
   ]
  },
  {
   "cell_type": "code",
   "execution_count": null,
   "metadata": {},
   "outputs": [],
   "source": [
    "# Linear Regression\n",
    "X = df_train[['Gender','Company Type','WFH Setup Available','Designation','Resource Allocation','Mental Fatigue Score','days_count']]\n",
    "y = df_train['Burn Rate']\n",
    "\n",
    "X_train, X_test, y_train, y_test = train_test_split(X, y, test_size=0.2, random_state=42)\n",
    "lm_model = LinearRegression(normalize=True)\n",
    "lm_model.fit(X_train, y_train)\n",
    "\n",
    "y_train_preds = lm_model.predict(X_train)\n",
    "y_test_preds = lm_model.predict(X_test)\n",
    "r2_train = r2_score(y_train, y_train_preds)\n",
    "r2_test = r2_score(y_test, y_test_preds)\n",
    "\n",
    "print(r2_train, '\\n', r2_test)\n",
    "print(lm_model.intercept_)\n",
    "print(lm_model.coef_)\n",
    "print(y_train_preds)"
   ]
  },
  {
   "cell_type": "code",
   "execution_count": null,
   "metadata": {},
   "outputs": [],
   "source": [
    "# Random Forest\n",
    "\n",
    "rf_model = RandomForestRegressor()\n",
    "rf_model.fit(X_train, y_train)\n",
    "\n",
    "y_train_preds_rf = rf_model.predict(X_train)\n",
    "y_test_preds_rf = rf_model.predict(X_test)\n",
    "\n",
    "r2_train_rf = r2_score(y_train, y_train_preds_rf)\n",
    "r2_test_rf = r2_score(y_test, y_test_preds_rf)\n",
    "print(r2_train_rf, '\\n', r2_test_rf)"
   ]
  },
  {
   "cell_type": "code",
   "execution_count": null,
   "metadata": {},
   "outputs": [],
   "source": [
    "# checking the prediction accuracy\n",
    "y_train_preds_df = pd.DataFrame(data=y_train_preds, columns=['Prediction'], index=X_train.index.copy())\n",
    "\n",
    "df_out = pd.merge(df_train, y_train_preds_df, how='left', left_index = True, right_index=True)\n",
    "df_out.head()"
   ]
  },
  {
   "cell_type": "code",
   "execution_count": null,
   "metadata": {},
   "outputs": [],
   "source": [
    "# drop NaN\n",
    "df_out.dropna(subset=[\"Prediction\"], axis=0, inplace = True)\n",
    "df_out.info()"
   ]
  },
  {
   "cell_type": "code",
   "execution_count": null,
   "metadata": {},
   "outputs": [],
   "source": [
    "# original vs predicted comparison\n",
    "v = df_out['Burn Rate']\n",
    "z = df_out['Prediction'] \n",
    "w = df_out['Mental Fatigue Score']\n",
    "\n",
    "plt.scatter(w, v, color=\"blue\", label=\"Original\", s=0.3)\n",
    "plt.scatter(w, z, color=\"lightgreen\", label=\"Predicted\", s=0.3)\n",
    "plt.xlabel(\"Mental Fatigue Score\")\n",
    "plt.ylabel(\"Burn Rate / original or prediction\")\n",
    "plt.xticks(range(0,11))\n",
    "plt.legend()\n",
    "plt.show()"
   ]
  },
  {
   "cell_type": "code",
   "execution_count": null,
   "metadata": {},
   "outputs": [],
   "source": [
    "# Error statistics\n",
    "print('MAE: ', metrics.mean_absolute_error(v, z))\n",
    "print('MSE: ', metrics.mean_squared_error(v, z))\n",
    "print('RMSE: ', np.sqrt(metrics.mean_squared_error(v,z)))"
   ]
  }
 ]
}